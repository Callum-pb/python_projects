{
  "nbformat": 4,
  "nbformat_minor": 0,
  "metadata": {
    "colab": {
      "name": "weight_tracker.ipynb",
      "provenance": [],
      "collapsed_sections": [],
      "authorship_tag": "ABX9TyM9hJ3iAhTN09Rg+wYfirvk",
      "include_colab_link": true
    },
    "kernelspec": {
      "name": "python3",
      "display_name": "Python 3"
    }
  },
  "cells": [
    {
      "cell_type": "markdown",
      "metadata": {
        "id": "view-in-github",
        "colab_type": "text"
      },
      "source": [
        "<a href=\"https://colab.research.google.com/github/Callum-pb/python_projects/blob/master/weight_tracker.ipynb\" target=\"_parent\"><img src=\"https://colab.research.google.com/assets/colab-badge.svg\" alt=\"Open In Colab\"/></a>"
      ]
    },
    {
      "cell_type": "code",
      "metadata": {
        "id": "5lom8QFv9Snq",
        "colab_type": "code",
        "colab": {}
      },
      "source": [
        "from google.colab import auth\n",
        "auth.authenticate_user()\n",
        "import gspread\n",
        "from oauth2client.client import GoogleCredentials\n",
        "gc = gspread.authorize(GoogleCredentials.get_application_default())"
      ],
      "execution_count": 0,
      "outputs": []
    },
    {
      "cell_type": "code",
      "metadata": {
        "id": "FgbRWCAq9XNq",
        "colab_type": "code",
        "colab": {}
      },
      "source": [
        "import pandas as pd\n",
        "import matplotlib.pyplot as plt\n",
        "import matplotlib.ticker as mtick\n",
        "import numpy as np\n"
      ],
      "execution_count": 0,
      "outputs": []
    },
    {
      "cell_type": "code",
      "metadata": {
        "id": "F2w07LTz9lZ5",
        "colab_type": "code",
        "colab": {}
      },
      "source": [
        "wb = gc.open_by_url('https://docs.google.com/spreadsheets/d/1KYiph71L7fyHS01_X08fKKEb_9Ev3RCOeeeEkYQ8nFY/edit')"
      ],
      "execution_count": 0,
      "outputs": []
    },
    {
      "cell_type": "code",
      "metadata": {
        "id": "vw_AmFpZ9uMf",
        "colab_type": "code",
        "colab": {}
      },
      "source": [
        "sheet = wb.worksheet('Weight Log')"
      ],
      "execution_count": 0,
      "outputs": []
    },
    {
      "cell_type": "code",
      "metadata": {
        "id": "st52qabq91dZ",
        "colab_type": "code",
        "colab": {}
      },
      "source": [
        "data = sheet.get_all_values()"
      ],
      "execution_count": 0,
      "outputs": []
    },
    {
      "cell_type": "code",
      "metadata": {
        "id": "3GHybZlB96lP",
        "colab_type": "code",
        "outputId": "efc1166b-b11c-406b-fa1e-f5997d8ea539",
        "colab": {
          "base_uri": "https://localhost:8080/",
          "height": 798
        }
      },
      "source": [
        "#Create df from CSV and view top of CSV imported\n",
        "weights = pd.DataFrame(data)\n",
        "print('Top of CSV')\n",
        "print(weights.head(10))\n",
        "#Drop crap at top of page to leave table\n",
        "weights = weights.iloc[6:,0:2]\n",
        "print('\\nTop of data table')\n",
        "print(weights.head(10))\n",
        "#Column headers\n",
        "weights_heads = weights.iloc[0].values\n",
        "print('\\nHeaders:')\n",
        "print(weights_heads)\n",
        "weights_heads[1] = 'WeightKG'\n",
        "print('\\n\\n')\n",
        "#Set column headers and remove first row, so df is just data. Also reindex df\n",
        "weights.columns = weights_heads\n",
        "weights = weights.iloc[1:]\n",
        "weights.reset_index(drop=True,inplace=True)\n",
        "\n",
        "print(weights.head(10))"
      ],
      "execution_count": 0,
      "outputs": [
        {
          "output_type": "stream",
          "text": [
            "Top of CSV\n",
            "                0            1          2  ...            4      5      6\n",
            "0      04/06/2020           kg        lbs  ...                  kg    lbs\n",
            "1    Start Weight        130.9      288.0  ...  Goal Weight    100    220\n",
            "2  Current Weight       112.10      246.6  ...    Remaining  12.10  26.62\n",
            "3     Weight Lost        18.80       41.4  ...                           \n",
            "4                                          ...                           \n",
            "5                                          ...                           \n",
            "6            Date  Weight (kg)  7-day Avg  ...                           \n",
            "7      12/05/2019        130.9          -  ...                           \n",
            "8      13/05/2019        127.8          -  ...                           \n",
            "9      14/05/2019        127.8          -  ...                           \n",
            "\n",
            "[10 rows x 7 columns]\n",
            "\n",
            "Top of data table\n",
            "             0            1\n",
            "6         Date  Weight (kg)\n",
            "7   12/05/2019        130.9\n",
            "8   13/05/2019        127.8\n",
            "9   14/05/2019        127.8\n",
            "10  15/05/2019        128.7\n",
            "11  16/05/2019        128.5\n",
            "12  17/05/2019        128.6\n",
            "13  18/05/2019        128.6\n",
            "14  19/05/2019        128.2\n",
            "15  20/05/2019        128.1\n",
            "\n",
            "Headers:\n",
            "['Date' 'Weight (kg)']\n",
            "\n",
            "\n",
            "\n",
            "         Date WeightKG\n",
            "0  12/05/2019    130.9\n",
            "1  13/05/2019    127.8\n",
            "2  14/05/2019    127.8\n",
            "3  15/05/2019    128.7\n",
            "4  16/05/2019    128.5\n",
            "5  17/05/2019    128.6\n",
            "6  18/05/2019    128.6\n",
            "7  19/05/2019    128.2\n",
            "8  20/05/2019    128.1\n",
            "9  21/05/2019    127.8\n"
          ],
          "name": "stdout"
        }
      ]
    },
    {
      "cell_type": "code",
      "metadata": {
        "id": "SQTGjV-L99mC",
        "colab_type": "code",
        "outputId": "cd1cfbff-4f48-4af9-d862-26f92c47d01c",
        "colab": {
          "base_uri": "https://localhost:8080/",
          "height": 176
        }
      },
      "source": [
        "#Check data types\n",
        "print(weights.dtypes)\n",
        "print('\\n\\n')\n",
        "\n",
        "##Decided dates should just be index\n",
        "#weights.set_index(weights['Date'],inplace=True)\n",
        "#Convert Date to datetime, weight to float\n",
        "weights['Date'] = pd.to_datetime(weights.Date,dayfirst=True)\n",
        "weights['WeightKG'] = pd.to_numeric(weights.WeightKG)\n",
        "\n",
        "#Decided dates should just be index\n",
        "#weights.set_index('Date',inplace=True)\n",
        "\n",
        "print(weights.dtypes)"
      ],
      "execution_count": 0,
      "outputs": [
        {
          "output_type": "stream",
          "text": [
            "Date        datetime64[ns]\n",
            "WeightKG           float64\n",
            "dtype: object\n",
            "\n",
            "\n",
            "\n",
            "Date        datetime64[ns]\n",
            "WeightKG           float64\n",
            "dtype: object\n"
          ],
          "name": "stdout"
        }
      ]
    },
    {
      "cell_type": "code",
      "metadata": {
        "id": "c3zA4e8Z-zLi",
        "colab_type": "code",
        "outputId": "58fed1a4-33d7-44a5-dd0b-42d09b019328",
        "colab": {
          "base_uri": "https://localhost:8080/",
          "height": 647
        }
      },
      "source": [
        "weights.sample(20)"
      ],
      "execution_count": 0,
      "outputs": [
        {
          "output_type": "execute_result",
          "data": {
            "text/html": [
              "<div>\n",
              "<style scoped>\n",
              "    .dataframe tbody tr th:only-of-type {\n",
              "        vertical-align: middle;\n",
              "    }\n",
              "\n",
              "    .dataframe tbody tr th {\n",
              "        vertical-align: top;\n",
              "    }\n",
              "\n",
              "    .dataframe thead th {\n",
              "        text-align: right;\n",
              "    }\n",
              "</style>\n",
              "<table border=\"1\" class=\"dataframe\">\n",
              "  <thead>\n",
              "    <tr style=\"text-align: right;\">\n",
              "      <th></th>\n",
              "      <th>Date</th>\n",
              "      <th>WeightKG</th>\n",
              "    </tr>\n",
              "  </thead>\n",
              "  <tbody>\n",
              "    <tr>\n",
              "      <th>251</th>\n",
              "      <td>2020-01-18</td>\n",
              "      <td>116.75</td>\n",
              "    </tr>\n",
              "    <tr>\n",
              "      <th>368</th>\n",
              "      <td>2020-05-14</td>\n",
              "      <td>115.00</td>\n",
              "    </tr>\n",
              "    <tr>\n",
              "      <th>211</th>\n",
              "      <td>2019-12-09</td>\n",
              "      <td>NaN</td>\n",
              "    </tr>\n",
              "    <tr>\n",
              "      <th>77</th>\n",
              "      <td>2019-07-28</td>\n",
              "      <td>128.40</td>\n",
              "    </tr>\n",
              "    <tr>\n",
              "      <th>32</th>\n",
              "      <td>2019-06-13</td>\n",
              "      <td>128.50</td>\n",
              "    </tr>\n",
              "    <tr>\n",
              "      <th>12</th>\n",
              "      <td>2019-05-24</td>\n",
              "      <td>128.50</td>\n",
              "    </tr>\n",
              "    <tr>\n",
              "      <th>218</th>\n",
              "      <td>2019-12-16</td>\n",
              "      <td>NaN</td>\n",
              "    </tr>\n",
              "    <tr>\n",
              "      <th>355</th>\n",
              "      <td>2020-05-01</td>\n",
              "      <td>117.05</td>\n",
              "    </tr>\n",
              "    <tr>\n",
              "      <th>367</th>\n",
              "      <td>2020-05-13</td>\n",
              "      <td>114.15</td>\n",
              "    </tr>\n",
              "    <tr>\n",
              "      <th>210</th>\n",
              "      <td>2019-12-08</td>\n",
              "      <td>NaN</td>\n",
              "    </tr>\n",
              "    <tr>\n",
              "      <th>359</th>\n",
              "      <td>2020-05-05</td>\n",
              "      <td>115.60</td>\n",
              "    </tr>\n",
              "    <tr>\n",
              "      <th>279</th>\n",
              "      <td>2020-02-15</td>\n",
              "      <td>117.30</td>\n",
              "    </tr>\n",
              "    <tr>\n",
              "      <th>159</th>\n",
              "      <td>2019-10-18</td>\n",
              "      <td>126.95</td>\n",
              "    </tr>\n",
              "    <tr>\n",
              "      <th>67</th>\n",
              "      <td>2019-07-18</td>\n",
              "      <td>129.15</td>\n",
              "    </tr>\n",
              "    <tr>\n",
              "      <th>52</th>\n",
              "      <td>2019-07-03</td>\n",
              "      <td>128.00</td>\n",
              "    </tr>\n",
              "    <tr>\n",
              "      <th>64</th>\n",
              "      <td>2019-07-15</td>\n",
              "      <td>127.85</td>\n",
              "    </tr>\n",
              "    <tr>\n",
              "      <th>86</th>\n",
              "      <td>2019-08-06</td>\n",
              "      <td>127.95</td>\n",
              "    </tr>\n",
              "    <tr>\n",
              "      <th>341</th>\n",
              "      <td>2020-04-17</td>\n",
              "      <td>117.20</td>\n",
              "    </tr>\n",
              "    <tr>\n",
              "      <th>93</th>\n",
              "      <td>2019-08-13</td>\n",
              "      <td>126.80</td>\n",
              "    </tr>\n",
              "    <tr>\n",
              "      <th>183</th>\n",
              "      <td>2019-11-11</td>\n",
              "      <td>NaN</td>\n",
              "    </tr>\n",
              "  </tbody>\n",
              "</table>\n",
              "</div>"
            ],
            "text/plain": [
              "          Date  WeightKG\n",
              "251 2020-01-18    116.75\n",
              "368 2020-05-14    115.00\n",
              "211 2019-12-09       NaN\n",
              "77  2019-07-28    128.40\n",
              "32  2019-06-13    128.50\n",
              "12  2019-05-24    128.50\n",
              "218 2019-12-16       NaN\n",
              "355 2020-05-01    117.05\n",
              "367 2020-05-13    114.15\n",
              "210 2019-12-08       NaN\n",
              "359 2020-05-05    115.60\n",
              "279 2020-02-15    117.30\n",
              "159 2019-10-18    126.95\n",
              "67  2019-07-18    129.15\n",
              "52  2019-07-03    128.00\n",
              "64  2019-07-15    127.85\n",
              "86  2019-08-06    127.95\n",
              "341 2020-04-17    117.20\n",
              "93  2019-08-13    126.80\n",
              "183 2019-11-11       NaN"
            ]
          },
          "metadata": {
            "tags": []
          },
          "execution_count": 25
        }
      ]
    },
    {
      "cell_type": "code",
      "metadata": {
        "id": "cXNVT2VMD7sh",
        "colab_type": "code",
        "outputId": "1e1ffd9e-05d7-4d45-9940-b89a5d2f01f8",
        "colab": {
          "base_uri": "https://localhost:8080/",
          "height": 52
        }
      },
      "source": [
        "#Check date entries in range\n",
        "print(weights.Date.min())\n",
        "print(weights.Date.max())\n",
        "#Dates are fine, I could drop the last 4 days which are ahead of today, but when plotting I'd like to leave NaN values empty anyways"
      ],
      "execution_count": 0,
      "outputs": [
        {
          "output_type": "stream",
          "text": [
            "2019-05-12 00:00:00\n",
            "2020-06-06 00:00:00\n"
          ],
          "name": "stdout"
        }
      ]
    },
    {
      "cell_type": "code",
      "metadata": {
        "id": "1M_OPgLMFand",
        "colab_type": "code",
        "outputId": "bd53d053-0f62-495a-f14d-13ce7f0278cb",
        "colab": {
          "base_uri": "https://localhost:8080/",
          "height": 437
        }
      },
      "source": [
        "fig, ax = plt.subplots(figsize=(20,5))\n",
        "ax.set_title('Daily weigh-in')\n",
        "ax.set_ylabel('Weight (kg)')\n",
        "ax.set_xlabel('Date')\n",
        "\n",
        "#Add 7-day moving average column to df and then add to plot\n",
        "weights['MovAvg'] = weights.WeightKG.rolling(min_periods=1,window=7,center=True).mean()\n",
        "#seperate dotted plot for interpolated missing data - could add to either series but I'd like to show that it is interpolacted and not primary data\n",
        "weights['Interp'] = weights['WeightKG'].interpolate(method='linear',limit_direction='forward') #New col, linear interpolate from begingin all missing data\n",
        "weights['Interp'][weights.WeightKG.notna()] = np.nan #Create boolean showing where the not-null values are in original weights col, then set those rows in interp col to NAN so they don't show on plot\n",
        "\n",
        "#Plots\n",
        "weights.plot(x='Date',y='WeightKG',ax=ax, grid=True,style='b:',label='Recorded Weight') #Recored weights\n",
        "weights.plot(x='Date',y='MovAvg',ax=ax,label = '7-day Avg') #7-day moving average - centered\n",
        "weights.plot(x='Date',y='Interp',ax=ax,style='r:',label = 'Missing Data') #Interpolated data\n",
        "\n",
        "\n",
        "#Extende axes to show perspective\n",
        "ax.set_xlim(pd.Timestamp('2019-05-01'),pd.Timestamp('2020-07-01'))\n",
        "ax.set_ylim(bottom=105)\n",
        "\n",
        "#Annotate Graph\n",
        "ax.annotate('Settling in London',('2019-10-20',128))\n",
        "ax.annotate('Busy work Christmas',('2019-11-10',121))\n",
        "ax.annotate('Florida Wedding',('2020-02-10',120))\n",
        "\n",
        "#Add second vertical axis to show lbs\n",
        "def KGtoLBS(x):\n",
        "  return 2.2*x\n",
        "\n",
        "def LBStoKG(x):\n",
        "  return x/2.2\n",
        "\n",
        "secaxy = ax.secondary_yaxis('right', functions=(KGtoLBS, LBStoKG))\n",
        "secaxy.set_ylabel('Weight (lbs)')\n",
        "\n",
        "#Add grid and ticks\n",
        "ax\n",
        "ax.grid(b=True,which='both')\n",
        "\n",
        "plt.show()\n"
      ],
      "execution_count": 0,
      "outputs": [
        {
          "output_type": "stream",
          "text": [
            "/usr/local/lib/python3.6/dist-packages/ipykernel_launcher.py:10: SettingWithCopyWarning: \n",
            "A value is trying to be set on a copy of a slice from a DataFrame\n",
            "\n",
            "See the caveats in the documentation: https://pandas.pydata.org/pandas-docs/stable/user_guide/indexing.html#returning-a-view-versus-a-copy\n",
            "  # Remove the CWD from sys.path while we load stuff.\n"
          ],
          "name": "stderr"
        },
        {
          "output_type": "display_data",
          "data": {
            "image/png": "[encoded data removed]",
            "text/plain": [
              "<Figure size 1440x360 with 1 Axes>"
            ]
          },
          "metadata": {
            "tags": [],
            "needs_background": "light"
          }
        }
      ]
    },
    {
      "cell_type": "code",
      "metadata": {
        "id": "nNpMuS3GViNA",
        "colab_type": "code",
        "colab": {}
      },
      "source": [
        "fig.savefig('Weight loss so far')"
      ],
      "execution_count": 0,
      "outputs": []
    },
    {
      "cell_type": "code",
      "metadata": {
        "id": "Y7X6eLqVX2ts",
        "colab_type": "code",
        "outputId": "466bce62-f4df-4a23-e800-8293b84b2cb2",
        "colab": {
          "base_uri": "https://localhost:8080/",
          "height": 34
        }
      },
      "source": [
        "weights.Date[0].day - 10"
      ],
      "execution_count": 0,
      "outputs": [
        {
          "output_type": "execute_result",
          "data": {
            "text/plain": [
              "2"
            ]
          },
          "metadata": {
            "tags": []
          },
          "execution_count": 49
        }
      ]
    },
    {
      "cell_type": "code",
      "metadata": {
        "id": "7IUwiTp6aqXm",
        "colab_type": "code",
        "colab": {}
      },
      "source": [
        ""
      ],
      "execution_count": 0,
      "outputs": []
    }
  ]
}