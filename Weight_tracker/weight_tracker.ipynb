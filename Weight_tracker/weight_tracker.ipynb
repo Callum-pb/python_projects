{
  "nbformat": 4,
  "nbformat_minor": 0,
  "metadata": {
    "colab": {
      "name": "weight_tracker.ipynb",
      "provenance": [],
      "collapsed_sections": [],
      "authorship_tag": "ABX9TyN5hxExufYy5RQFvK55U9vh",
      "include_colab_link": true
    },
    "kernelspec": {
      "name": "python3",
      "display_name": "Python 3"
    }
  },
  "cells": [
    {
      "cell_type": "markdown",
      "metadata": {
        "id": "view-in-github",
        "colab_type": "text"
      },
      "source": [
        "<a href=\"https://colab.research.google.com/github/Callum-pb/python_projects/blob/master/Weight_tracker/weight_tracker.ipynb\" target=\"_parent\"><img src=\"https://colab.research.google.com/assets/colab-badge.svg\" alt=\"Open In Colab\"/></a>"
      ]
    },
    {
      "cell_type": "markdown",
      "metadata": {
        "id": "Tjj44L4pyWwn",
        "colab_type": "text"
      },
      "source": [
        "## Notes:\n",
        "\n",
        "Tidy up or reformat some of the plots, including the grid lines and adding titles. Makeing text bigger, etc.\n",
        "\n",
        "Is there a way of plotting the daily change in weight? \n",
        "Maybe show the largest daily delta, or the average weight shift each day.\n",
        "\n",
        "Extended:\n",
        "Plot other timeseries data onto the graph. Look into plotting my expenses on food vs time compared with the weight loss. Is there a pattern?"
      ]
    },
    {
      "cell_type": "markdown",
      "metadata": {
        "id": "RaR7m414YSGg",
        "colab_type": "text"
      },
      "source": [
        "# Weight Log Analysis\n",
        "\n",
        "A simple exploration of my daily weight log."
      ]
    },
    {
      "cell_type": "markdown",
      "metadata": {
        "id": "wHfSrklZY1tz",
        "colab_type": "text"
      },
      "source": [
        "The goal of this notebook is to viusalise my weight loss journey and see what other information I can gain from some basic analysis."
      ]
    },
    {
      "cell_type": "markdown",
      "metadata": {
        "id": "S87664oIYr1G",
        "colab_type": "text"
      },
      "source": [
        "## Import\n",
        "Authenticate Google Sheets, import packages, import data"
      ]
    },
    {
      "cell_type": "code",
      "metadata": {
        "id": "5lom8QFv9Snq",
        "colab_type": "code",
        "colab": {}
      },
      "source": [
        "from google.colab import auth\n",
        "auth.authenticate_user()\n",
        "import gspread\n",
        "from oauth2client.client import GoogleCredentials\n",
        "gc = gspread.authorize(GoogleCredentials.get_application_default())"
      ],
      "execution_count": 0,
      "outputs": []
    },
    {
      "cell_type": "code",
      "metadata": {
        "id": "FgbRWCAq9XNq",
        "colab_type": "code",
        "outputId": "106e9e52-24a0-42e5-a4dd-d492809b7ab8",
        "colab": {
          "base_uri": "https://localhost:8080/",
          "height": 72
        }
      },
      "source": [
        "import pandas as pd\n",
        "import matplotlib.pyplot as plt\n",
        "import matplotlib.ticker as mtick\n",
        "import numpy as np\n",
        "import missingno"
      ],
      "execution_count": 0,
      "outputs": [
        {
          "output_type": "stream",
          "text": [
            "/usr/local/lib/python3.6/dist-packages/statsmodels/tools/_testing.py:19: FutureWarning: pandas.util.testing is deprecated. Use the functions in the public API at pandas.testing instead.\n",
            "  import pandas.util.testing as tm\n"
          ],
          "name": "stderr"
        }
      ]
    },
    {
      "cell_type": "code",
      "metadata": {
        "id": "F2w07LTz9lZ5",
        "colab_type": "code",
        "colab": {}
      },
      "source": [
        "wb = gc.open_by_url('https://docs.google.com/spreadsheets/d/1KYiph71L7fyHS01_X08fKKEb_9Ev3RCOeeeEkYQ8nFY/edit')"
      ],
      "execution_count": 0,
      "outputs": []
    },
    {
      "cell_type": "code",
      "metadata": {
        "id": "vw_AmFpZ9uMf",
        "colab_type": "code",
        "colab": {}
      },
      "source": [
        "sheet = wb.worksheet('Weight Log')"
      ],
      "execution_count": 0,
      "outputs": []
    },
    {
      "cell_type": "code",
      "metadata": {
        "id": "st52qabq91dZ",
        "colab_type": "code",
        "colab": {}
      },
      "source": [
        "data = sheet.get_all_values()"
      ],
      "execution_count": 0,
      "outputs": []
    },
    {
      "cell_type": "markdown",
      "metadata": {
        "id": "44GZFxBEZCjY",
        "colab_type": "text"
      },
      "source": [
        "## Cleaning/EDA"
      ]
    },
    {
      "cell_type": "code",
      "metadata": {
        "id": "idjGPVThZHjr",
        "colab_type": "code",
        "outputId": "79f94327-48b4-420f-e39d-c869de87d1a0",
        "colab": {
          "base_uri": "https://localhost:8080/",
          "height": 347
        }
      },
      "source": [
        "# Create df from csv and see what it looks like\n",
        "raw = pd.DataFrame(data)\n",
        "raw.head(10)"
      ],
      "execution_count": 0,
      "outputs": [
        {
          "output_type": "execute_result",
          "data": {
            "text/html": [
              "<div>\n",
              "<style scoped>\n",
              "    .dataframe tbody tr th:only-of-type {\n",
              "        vertical-align: middle;\n",
              "    }\n",
              "\n",
              "    .dataframe tbody tr th {\n",
              "        vertical-align: top;\n",
              "    }\n",
              "\n",
              "    .dataframe thead th {\n",
              "        text-align: right;\n",
              "    }\n",
              "</style>\n",
              "<table border=\"1\" class=\"dataframe\">\n",
              "  <thead>\n",
              "    <tr style=\"text-align: right;\">\n",
              "      <th></th>\n",
              "      <th>0</th>\n",
              "      <th>1</th>\n",
              "      <th>2</th>\n",
              "      <th>3</th>\n",
              "      <th>4</th>\n",
              "      <th>5</th>\n",
              "      <th>6</th>\n",
              "    </tr>\n",
              "  </thead>\n",
              "  <tbody>\n",
              "    <tr>\n",
              "      <th>0</th>\n",
              "      <td>12/06/2020</td>\n",
              "      <td>kg</td>\n",
              "      <td>lbs</td>\n",
              "      <td></td>\n",
              "      <td></td>\n",
              "      <td>kg</td>\n",
              "      <td>lbs</td>\n",
              "    </tr>\n",
              "    <tr>\n",
              "      <th>1</th>\n",
              "      <td>Start Weight</td>\n",
              "      <td>130.9</td>\n",
              "      <td>288.0</td>\n",
              "      <td></td>\n",
              "      <td>Goal Weight</td>\n",
              "      <td>100</td>\n",
              "      <td>220</td>\n",
              "    </tr>\n",
              "    <tr>\n",
              "      <th>2</th>\n",
              "      <td>Current Weight</td>\n",
              "      <td></td>\n",
              "      <td>0.0</td>\n",
              "      <td></td>\n",
              "      <td>Remaining</td>\n",
              "      <td>-100</td>\n",
              "      <td>-220</td>\n",
              "    </tr>\n",
              "    <tr>\n",
              "      <th>3</th>\n",
              "      <td>Weight Lost</td>\n",
              "      <td>130.9</td>\n",
              "      <td>288.0</td>\n",
              "      <td></td>\n",
              "      <td></td>\n",
              "      <td></td>\n",
              "      <td></td>\n",
              "    </tr>\n",
              "    <tr>\n",
              "      <th>4</th>\n",
              "      <td></td>\n",
              "      <td></td>\n",
              "      <td></td>\n",
              "      <td></td>\n",
              "      <td></td>\n",
              "      <td></td>\n",
              "      <td></td>\n",
              "    </tr>\n",
              "    <tr>\n",
              "      <th>5</th>\n",
              "      <td></td>\n",
              "      <td></td>\n",
              "      <td></td>\n",
              "      <td></td>\n",
              "      <td></td>\n",
              "      <td></td>\n",
              "      <td></td>\n",
              "    </tr>\n",
              "    <tr>\n",
              "      <th>6</th>\n",
              "      <td>Date</td>\n",
              "      <td>Weight (kg)</td>\n",
              "      <td>7-day Avg</td>\n",
              "      <td>Daily Delta</td>\n",
              "      <td></td>\n",
              "      <td></td>\n",
              "      <td></td>\n",
              "    </tr>\n",
              "    <tr>\n",
              "      <th>7</th>\n",
              "      <td>12/05/2019</td>\n",
              "      <td>130.9</td>\n",
              "      <td>-</td>\n",
              "      <td>-</td>\n",
              "      <td></td>\n",
              "      <td></td>\n",
              "      <td></td>\n",
              "    </tr>\n",
              "    <tr>\n",
              "      <th>8</th>\n",
              "      <td>13/05/2019</td>\n",
              "      <td>127.8</td>\n",
              "      <td>-</td>\n",
              "      <td>-3.1</td>\n",
              "      <td></td>\n",
              "      <td></td>\n",
              "      <td></td>\n",
              "    </tr>\n",
              "    <tr>\n",
              "      <th>9</th>\n",
              "      <td>14/05/2019</td>\n",
              "      <td>127.8</td>\n",
              "      <td>-</td>\n",
              "      <td>0</td>\n",
              "      <td></td>\n",
              "      <td></td>\n",
              "      <td></td>\n",
              "    </tr>\n",
              "  </tbody>\n",
              "</table>\n",
              "</div>"
            ],
            "text/plain": [
              "                0            1          2            3            4     5     6\n",
              "0      12/06/2020           kg        lbs                              kg   lbs\n",
              "1    Start Weight        130.9      288.0               Goal Weight   100   220\n",
              "2  Current Weight                     0.0                 Remaining  -100  -220\n",
              "3     Weight Lost        130.9      288.0                                      \n",
              "4                                                                              \n",
              "5                                                                              \n",
              "6            Date  Weight (kg)  7-day Avg  Daily Delta                         \n",
              "7      12/05/2019        130.9          -            -                         \n",
              "8      13/05/2019        127.8          -         -3.1                         \n",
              "9      14/05/2019        127.8          -            0                         "
            ]
          },
          "metadata": {
            "tags": []
          },
          "execution_count": 6
        }
      ]
    },
    {
      "cell_type": "markdown",
      "metadata": {
        "id": "KTQ-eRywZc0V",
        "colab_type": "text"
      },
      "source": [
        "We can see that the top of the CSV had some extra rows from analysis within the Google Sheet. We need to drop these in order to obtain our data table."
      ]
    },
    {
      "cell_type": "code",
      "metadata": {
        "id": "4aXOgfclZcdC",
        "colab_type": "code",
        "outputId": "5c48b944-a55a-4f75-80ff-16c150d35db9",
        "colab": {
          "base_uri": "https://localhost:8080/",
          "height": 197
        }
      },
      "source": [
        "# Drop excess info rows\n",
        "raw = raw.iloc[6:,:4]\n",
        "raw.head()"
      ],
      "execution_count": 0,
      "outputs": [
        {
          "output_type": "execute_result",
          "data": {
            "text/html": [
              "<div>\n",
              "<style scoped>\n",
              "    .dataframe tbody tr th:only-of-type {\n",
              "        vertical-align: middle;\n",
              "    }\n",
              "\n",
              "    .dataframe tbody tr th {\n",
              "        vertical-align: top;\n",
              "    }\n",
              "\n",
              "    .dataframe thead th {\n",
              "        text-align: right;\n",
              "    }\n",
              "</style>\n",
              "<table border=\"1\" class=\"dataframe\">\n",
              "  <thead>\n",
              "    <tr style=\"text-align: right;\">\n",
              "      <th></th>\n",
              "      <th>0</th>\n",
              "      <th>1</th>\n",
              "      <th>2</th>\n",
              "      <th>3</th>\n",
              "    </tr>\n",
              "  </thead>\n",
              "  <tbody>\n",
              "    <tr>\n",
              "      <th>6</th>\n",
              "      <td>Date</td>\n",
              "      <td>Weight (kg)</td>\n",
              "      <td>7-day Avg</td>\n",
              "      <td>Daily Delta</td>\n",
              "    </tr>\n",
              "    <tr>\n",
              "      <th>7</th>\n",
              "      <td>12/05/2019</td>\n",
              "      <td>130.9</td>\n",
              "      <td>-</td>\n",
              "      <td>-</td>\n",
              "    </tr>\n",
              "    <tr>\n",
              "      <th>8</th>\n",
              "      <td>13/05/2019</td>\n",
              "      <td>127.8</td>\n",
              "      <td>-</td>\n",
              "      <td>-3.1</td>\n",
              "    </tr>\n",
              "    <tr>\n",
              "      <th>9</th>\n",
              "      <td>14/05/2019</td>\n",
              "      <td>127.8</td>\n",
              "      <td>-</td>\n",
              "      <td>0</td>\n",
              "    </tr>\n",
              "    <tr>\n",
              "      <th>10</th>\n",
              "      <td>15/05/2019</td>\n",
              "      <td>128.7</td>\n",
              "      <td>-</td>\n",
              "      <td>0.9</td>\n",
              "    </tr>\n",
              "  </tbody>\n",
              "</table>\n",
              "</div>"
            ],
            "text/plain": [
              "             0            1          2            3\n",
              "6         Date  Weight (kg)  7-day Avg  Daily Delta\n",
              "7   12/05/2019        130.9          -            -\n",
              "8   13/05/2019        127.8          -         -3.1\n",
              "9   14/05/2019        127.8          -            0\n",
              "10  15/05/2019        128.7          -          0.9"
            ]
          },
          "metadata": {
            "tags": []
          },
          "execution_count": 7
        }
      ]
    },
    {
      "cell_type": "markdown",
      "metadata": {
        "id": "w-8ADnheaG6N",
        "colab_type": "text"
      },
      "source": [
        "Let's pull out the name our columns and drop the headers row. We can then also reindex our df. This will be our clean data.\n",
        "\n",
        "I'm also going to drop the 7-day Avg column, and the Daily Delta column as I know there is missing data in the log and would like to handle recalculating these within this notebook. This gives me greater control."
      ]
    },
    {
      "cell_type": "code",
      "metadata": {
        "id": "8XTK-017aSl6",
        "colab_type": "code",
        "outputId": "e9c73890-7bae-4a27-e212-ad4cca13e37d",
        "colab": {
          "base_uri": "https://localhost:8080/",
          "height": 197
        }
      },
      "source": [
        "clean = raw.iloc[1:,:2]\n",
        "clean.columns = ['Date','Weight']\n",
        "clean.reset_index(drop=True,inplace=True)\n",
        "clean.head()"
      ],
      "execution_count": 0,
      "outputs": [
        {
          "output_type": "execute_result",
          "data": {
            "text/html": [
              "<div>\n",
              "<style scoped>\n",
              "    .dataframe tbody tr th:only-of-type {\n",
              "        vertical-align: middle;\n",
              "    }\n",
              "\n",
              "    .dataframe tbody tr th {\n",
              "        vertical-align: top;\n",
              "    }\n",
              "\n",
              "    .dataframe thead th {\n",
              "        text-align: right;\n",
              "    }\n",
              "</style>\n",
              "<table border=\"1\" class=\"dataframe\">\n",
              "  <thead>\n",
              "    <tr style=\"text-align: right;\">\n",
              "      <th></th>\n",
              "      <th>Date</th>\n",
              "      <th>Weight</th>\n",
              "    </tr>\n",
              "  </thead>\n",
              "  <tbody>\n",
              "    <tr>\n",
              "      <th>0</th>\n",
              "      <td>12/05/2019</td>\n",
              "      <td>130.9</td>\n",
              "    </tr>\n",
              "    <tr>\n",
              "      <th>1</th>\n",
              "      <td>13/05/2019</td>\n",
              "      <td>127.8</td>\n",
              "    </tr>\n",
              "    <tr>\n",
              "      <th>2</th>\n",
              "      <td>14/05/2019</td>\n",
              "      <td>127.8</td>\n",
              "    </tr>\n",
              "    <tr>\n",
              "      <th>3</th>\n",
              "      <td>15/05/2019</td>\n",
              "      <td>128.7</td>\n",
              "    </tr>\n",
              "    <tr>\n",
              "      <th>4</th>\n",
              "      <td>16/05/2019</td>\n",
              "      <td>128.5</td>\n",
              "    </tr>\n",
              "  </tbody>\n",
              "</table>\n",
              "</div>"
            ],
            "text/plain": [
              "         Date Weight\n",
              "0  12/05/2019  130.9\n",
              "1  13/05/2019  127.8\n",
              "2  14/05/2019  127.8\n",
              "3  15/05/2019  128.7\n",
              "4  16/05/2019  128.5"
            ]
          },
          "metadata": {
            "tags": []
          },
          "execution_count": 8
        }
      ]
    },
    {
      "cell_type": "markdown",
      "metadata": {
        "id": "6YVABLgAbprW",
        "colab_type": "text"
      },
      "source": [
        "Now let's check our data types and convert if needed."
      ]
    },
    {
      "cell_type": "code",
      "metadata": {
        "id": "Gj5xt9rDbtjn",
        "colab_type": "code",
        "outputId": "9305b6d5-59b5-470c-873c-10dd278e9381",
        "colab": {
          "base_uri": "https://localhost:8080/",
          "height": 70
        }
      },
      "source": [
        "clean.dtypes"
      ],
      "execution_count": 0,
      "outputs": [
        {
          "output_type": "execute_result",
          "data": {
            "text/plain": [
              "Date      object\n",
              "Weight    object\n",
              "dtype: object"
            ]
          },
          "metadata": {
            "tags": []
          },
          "execution_count": 9
        }
      ]
    },
    {
      "cell_type": "code",
      "metadata": {
        "id": "BbqYIeczbv9K",
        "colab_type": "code",
        "outputId": "e0023ba9-39b5-4ee2-994e-2fc621127e77",
        "colab": {
          "base_uri": "https://localhost:8080/",
          "height": 70
        }
      },
      "source": [
        "clean['Date'] = pd.to_datetime(clean['Date'],dayfirst=True)\n",
        "clean['Weight'] = pd.to_numeric(clean['Weight'],errors='coerce')\n",
        "clean.dtypes"
      ],
      "execution_count": 0,
      "outputs": [
        {
          "output_type": "execute_result",
          "data": {
            "text/plain": [
              "Date      datetime64[ns]\n",
              "Weight           float64\n",
              "dtype: object"
            ]
          },
          "metadata": {
            "tags": []
          },
          "execution_count": 10
        }
      ]
    },
    {
      "cell_type": "markdown",
      "metadata": {
        "id": "aQBclYjdedWJ",
        "colab_type": "text"
      },
      "source": [
        "Now to check the validity of our data. \n",
        "First let's check see some basic stats"
      ]
    },
    {
      "cell_type": "code",
      "metadata": {
        "id": "SGAzcOHxetIN",
        "colab_type": "code",
        "outputId": "640874c9-754b-49ab-db7d-1cc955db1279",
        "colab": {
          "base_uri": "https://localhost:8080/",
          "height": 287
        }
      },
      "source": [
        "clean.describe()"
      ],
      "execution_count": 0,
      "outputs": [
        {
          "output_type": "execute_result",
          "data": {
            "text/html": [
              "<div>\n",
              "<style scoped>\n",
              "    .dataframe tbody tr th:only-of-type {\n",
              "        vertical-align: middle;\n",
              "    }\n",
              "\n",
              "    .dataframe tbody tr th {\n",
              "        vertical-align: top;\n",
              "    }\n",
              "\n",
              "    .dataframe thead th {\n",
              "        text-align: right;\n",
              "    }\n",
              "</style>\n",
              "<table border=\"1\" class=\"dataframe\">\n",
              "  <thead>\n",
              "    <tr style=\"text-align: right;\">\n",
              "      <th></th>\n",
              "      <th>Weight</th>\n",
              "    </tr>\n",
              "  </thead>\n",
              "  <tbody>\n",
              "    <tr>\n",
              "      <th>count</th>\n",
              "      <td>322.000000</td>\n",
              "    </tr>\n",
              "    <tr>\n",
              "      <th>mean</th>\n",
              "      <td>121.961056</td>\n",
              "    </tr>\n",
              "    <tr>\n",
              "      <th>std</th>\n",
              "      <td>5.761135</td>\n",
              "    </tr>\n",
              "    <tr>\n",
              "      <th>min</th>\n",
              "      <td>112.000000</td>\n",
              "    </tr>\n",
              "    <tr>\n",
              "      <th>25%</th>\n",
              "      <td>116.425000</td>\n",
              "    </tr>\n",
              "    <tr>\n",
              "      <th>50%</th>\n",
              "      <td>123.550000</td>\n",
              "    </tr>\n",
              "    <tr>\n",
              "      <th>75%</th>\n",
              "      <td>127.687500</td>\n",
              "    </tr>\n",
              "    <tr>\n",
              "      <th>max</th>\n",
              "      <td>130.900000</td>\n",
              "    </tr>\n",
              "  </tbody>\n",
              "</table>\n",
              "</div>"
            ],
            "text/plain": [
              "           Weight\n",
              "count  322.000000\n",
              "mean   121.961056\n",
              "std      5.761135\n",
              "min    112.000000\n",
              "25%    116.425000\n",
              "50%    123.550000\n",
              "75%    127.687500\n",
              "max    130.900000"
            ]
          },
          "metadata": {
            "tags": []
          },
          "execution_count": 11
        }
      ]
    },
    {
      "cell_type": "markdown",
      "metadata": {
        "id": "Vxr8bJ_ieyKy",
        "colab_type": "text"
      },
      "source": [
        "Min and Max weights looks to be valid. "
      ]
    },
    {
      "cell_type": "code",
      "metadata": {
        "id": "ZjmPrE5ie9D2",
        "colab_type": "code",
        "outputId": "8c1a1b29-442c-494d-a518-7daad711f104",
        "colab": {
          "base_uri": "https://localhost:8080/",
          "height": 52
        }
      },
      "source": [
        "print(f'Min Date: {clean.Date.min()}')\n",
        "print(f'Max Date: {clean.Date.max()}')"
      ],
      "execution_count": 0,
      "outputs": [
        {
          "output_type": "stream",
          "text": [
            "Min Date: 2019-05-12 00:00:00\n",
            "Max Date: 2020-07-11 00:00:00\n"
          ],
          "name": "stdout"
        }
      ]
    },
    {
      "cell_type": "markdown",
      "metadata": {
        "id": "rHDtJo8GfH2Z",
        "colab_type": "text"
      },
      "source": [
        "Min date looks valid. Earliest is when the log started. \n",
        "Max date is in the future, my guess is the data column in the CSV is dragged down for ease of entry. We should see plenty of missing values in the weight column corresponding to these future dates. If this is the case then I can either leave them in for forecasting purposes, or drop them for now to make the handling of current data easier."
      ]
    },
    {
      "cell_type": "code",
      "metadata": {
        "id": "AM0I-Jkafv5v",
        "colab_type": "code",
        "outputId": "dd05daff-2575-44da-fb2c-9188ce53f891",
        "colab": {
          "base_uri": "https://localhost:8080/",
          "height": 388
        }
      },
      "source": [
        "missingno.matrix(clean,figsize=(15,5))"
      ],
      "execution_count": 0,
      "outputs": [
        {
          "output_type": "execute_result",
          "data": {
            "text/plain": [
              "<matplotlib.axes._subplots.AxesSubplot at 0x7f98c2109668>"
            ]
          },
          "metadata": {
            "tags": []
          },
          "execution_count": 13
        },
        {
          "output_type": "display_data",
          "data": {
            "image/png": "[encoded data removed]",
            "text/plain": [
              "<Figure size 1080x360 with 2 Axes>"
            ]
          },
          "metadata": {
            "tags": [],
            "needs_background": "light"
          }
        }
      ]
    },
    {
      "cell_type": "markdown",
      "metadata": {
        "id": "XfqwlmPEgYNj",
        "colab_type": "text"
      },
      "source": [
        "We can see the future dates we previously mentioned. We can also see two large chunks missing. If I remember correctly, the first was when I moved cities and didn't keep up with my logging. The second was during my trip to Florida. I had no access to bathroom scales."
      ]
    },
    {
      "cell_type": "markdown",
      "metadata": {
        "id": "TuBgEPGcgysN",
        "colab_type": "text"
      },
      "source": [
        "## Dealing with missing Data"
      ]
    },
    {
      "cell_type": "markdown",
      "metadata": {
        "id": "PQESpaNzg41k",
        "colab_type": "text"
      },
      "source": [
        "I'm going to drop the future dates as I can always add them back in for forecasting or plotting purposes.\n",
        "\n",
        "I will leave the missing data missing for now. However, I may add a new column and interpolate these gaps. This interpolated column will help with plotting a trend line later."
      ]
    },
    {
      "cell_type": "code",
      "metadata": {
        "id": "pLEueKLPhMSw",
        "colab_type": "code",
        "outputId": "3dd2e7a6-e6dd-4e1f-92d5-33a645204b05",
        "colab": {
          "base_uri": "https://localhost:8080/",
          "height": 1000
        }
      },
      "source": [
        "#First, let's drop the future dates\n",
        "clean.tail(50)\n",
        "#Probably a nicer way of finding the last rull row, but this does the job."
      ],
      "execution_count": 0,
      "outputs": [
        {
          "output_type": "execute_result",
          "data": {
            "text/html": [
              "<div>\n",
              "<style scoped>\n",
              "    .dataframe tbody tr th:only-of-type {\n",
              "        vertical-align: middle;\n",
              "    }\n",
              "\n",
              "    .dataframe tbody tr th {\n",
              "        vertical-align: top;\n",
              "    }\n",
              "\n",
              "    .dataframe thead th {\n",
              "        text-align: right;\n",
              "    }\n",
              "</style>\n",
              "<table border=\"1\" class=\"dataframe\">\n",
              "  <thead>\n",
              "    <tr style=\"text-align: right;\">\n",
              "      <th></th>\n",
              "      <th>Date</th>\n",
              "      <th>Weight</th>\n",
              "    </tr>\n",
              "  </thead>\n",
              "  <tbody>\n",
              "    <tr>\n",
              "      <th>377</th>\n",
              "      <td>2020-05-23</td>\n",
              "      <td>114.85</td>\n",
              "    </tr>\n",
              "    <tr>\n",
              "      <th>378</th>\n",
              "      <td>2020-05-24</td>\n",
              "      <td>113.85</td>\n",
              "    </tr>\n",
              "    <tr>\n",
              "      <th>379</th>\n",
              "      <td>2020-05-25</td>\n",
              "      <td>114.30</td>\n",
              "    </tr>\n",
              "    <tr>\n",
              "      <th>380</th>\n",
              "      <td>2020-05-26</td>\n",
              "      <td>113.90</td>\n",
              "    </tr>\n",
              "    <tr>\n",
              "      <th>381</th>\n",
              "      <td>2020-05-27</td>\n",
              "      <td>113.45</td>\n",
              "    </tr>\n",
              "    <tr>\n",
              "      <th>382</th>\n",
              "      <td>2020-05-28</td>\n",
              "      <td>113.60</td>\n",
              "    </tr>\n",
              "    <tr>\n",
              "      <th>383</th>\n",
              "      <td>2020-05-29</td>\n",
              "      <td>113.75</td>\n",
              "    </tr>\n",
              "    <tr>\n",
              "      <th>384</th>\n",
              "      <td>2020-05-30</td>\n",
              "      <td>113.75</td>\n",
              "    </tr>\n",
              "    <tr>\n",
              "      <th>385</th>\n",
              "      <td>2020-05-31</td>\n",
              "      <td>113.60</td>\n",
              "    </tr>\n",
              "    <tr>\n",
              "      <th>386</th>\n",
              "      <td>2020-06-01</td>\n",
              "      <td>113.35</td>\n",
              "    </tr>\n",
              "    <tr>\n",
              "      <th>387</th>\n",
              "      <td>2020-06-02</td>\n",
              "      <td>112.75</td>\n",
              "    </tr>\n",
              "    <tr>\n",
              "      <th>388</th>\n",
              "      <td>2020-06-03</td>\n",
              "      <td>112.00</td>\n",
              "    </tr>\n",
              "    <tr>\n",
              "      <th>389</th>\n",
              "      <td>2020-06-04</td>\n",
              "      <td>112.10</td>\n",
              "    </tr>\n",
              "    <tr>\n",
              "      <th>390</th>\n",
              "      <td>2020-06-05</td>\n",
              "      <td>112.00</td>\n",
              "    </tr>\n",
              "    <tr>\n",
              "      <th>391</th>\n",
              "      <td>2020-06-06</td>\n",
              "      <td>112.50</td>\n",
              "    </tr>\n",
              "    <tr>\n",
              "      <th>392</th>\n",
              "      <td>2020-06-07</td>\n",
              "      <td>112.15</td>\n",
              "    </tr>\n",
              "    <tr>\n",
              "      <th>393</th>\n",
              "      <td>2020-06-08</td>\n",
              "      <td>112.45</td>\n",
              "    </tr>\n",
              "    <tr>\n",
              "      <th>394</th>\n",
              "      <td>2020-06-09</td>\n",
              "      <td>113.00</td>\n",
              "    </tr>\n",
              "    <tr>\n",
              "      <th>395</th>\n",
              "      <td>2020-06-10</td>\n",
              "      <td>113.00</td>\n",
              "    </tr>\n",
              "    <tr>\n",
              "      <th>396</th>\n",
              "      <td>2020-06-11</td>\n",
              "      <td>112.45</td>\n",
              "    </tr>\n",
              "    <tr>\n",
              "      <th>397</th>\n",
              "      <td>2020-06-12</td>\n",
              "      <td>NaN</td>\n",
              "    </tr>\n",
              "    <tr>\n",
              "      <th>398</th>\n",
              "      <td>2020-06-13</td>\n",
              "      <td>NaN</td>\n",
              "    </tr>\n",
              "    <tr>\n",
              "      <th>399</th>\n",
              "      <td>2020-06-14</td>\n",
              "      <td>NaN</td>\n",
              "    </tr>\n",
              "    <tr>\n",
              "      <th>400</th>\n",
              "      <td>2020-06-15</td>\n",
              "      <td>NaN</td>\n",
              "    </tr>\n",
              "    <tr>\n",
              "      <th>401</th>\n",
              "      <td>2020-06-16</td>\n",
              "      <td>NaN</td>\n",
              "    </tr>\n",
              "    <tr>\n",
              "      <th>402</th>\n",
              "      <td>2020-06-17</td>\n",
              "      <td>NaN</td>\n",
              "    </tr>\n",
              "    <tr>\n",
              "      <th>403</th>\n",
              "      <td>2020-06-18</td>\n",
              "      <td>NaN</td>\n",
              "    </tr>\n",
              "    <tr>\n",
              "      <th>404</th>\n",
              "      <td>2020-06-19</td>\n",
              "      <td>NaN</td>\n",
              "    </tr>\n",
              "    <tr>\n",
              "      <th>405</th>\n",
              "      <td>2020-06-20</td>\n",
              "      <td>NaN</td>\n",
              "    </tr>\n",
              "    <tr>\n",
              "      <th>406</th>\n",
              "      <td>2020-06-21</td>\n",
              "      <td>NaN</td>\n",
              "    </tr>\n",
              "    <tr>\n",
              "      <th>407</th>\n",
              "      <td>2020-06-22</td>\n",
              "      <td>NaN</td>\n",
              "    </tr>\n",
              "    <tr>\n",
              "      <th>408</th>\n",
              "      <td>2020-06-23</td>\n",
              "      <td>NaN</td>\n",
              "    </tr>\n",
              "    <tr>\n",
              "      <th>409</th>\n",
              "      <td>2020-06-24</td>\n",
              "      <td>NaN</td>\n",
              "    </tr>\n",
              "    <tr>\n",
              "      <th>410</th>\n",
              "      <td>2020-06-25</td>\n",
              "      <td>NaN</td>\n",
              "    </tr>\n",
              "    <tr>\n",
              "      <th>411</th>\n",
              "      <td>2020-06-26</td>\n",
              "      <td>NaN</td>\n",
              "    </tr>\n",
              "    <tr>\n",
              "      <th>412</th>\n",
              "      <td>2020-06-27</td>\n",
              "      <td>NaN</td>\n",
              "    </tr>\n",
              "    <tr>\n",
              "      <th>413</th>\n",
              "      <td>2020-06-28</td>\n",
              "      <td>NaN</td>\n",
              "    </tr>\n",
              "    <tr>\n",
              "      <th>414</th>\n",
              "      <td>2020-06-29</td>\n",
              "      <td>NaN</td>\n",
              "    </tr>\n",
              "    <tr>\n",
              "      <th>415</th>\n",
              "      <td>2020-06-30</td>\n",
              "      <td>NaN</td>\n",
              "    </tr>\n",
              "    <tr>\n",
              "      <th>416</th>\n",
              "      <td>2020-07-01</td>\n",
              "      <td>NaN</td>\n",
              "    </tr>\n",
              "    <tr>\n",
              "      <th>417</th>\n",
              "      <td>2020-07-02</td>\n",
              "      <td>NaN</td>\n",
              "    </tr>\n",
              "    <tr>\n",
              "      <th>418</th>\n",
              "      <td>2020-07-03</td>\n",
              "      <td>NaN</td>\n",
              "    </tr>\n",
              "    <tr>\n",
              "      <th>419</th>\n",
              "      <td>2020-07-04</td>\n",
              "      <td>NaN</td>\n",
              "    </tr>\n",
              "    <tr>\n",
              "      <th>420</th>\n",
              "      <td>2020-07-05</td>\n",
              "      <td>NaN</td>\n",
              "    </tr>\n",
              "    <tr>\n",
              "      <th>421</th>\n",
              "      <td>2020-07-06</td>\n",
              "      <td>NaN</td>\n",
              "    </tr>\n",
              "    <tr>\n",
              "      <th>422</th>\n",
              "      <td>2020-07-07</td>\n",
              "      <td>NaN</td>\n",
              "    </tr>\n",
              "    <tr>\n",
              "      <th>423</th>\n",
              "      <td>2020-07-08</td>\n",
              "      <td>NaN</td>\n",
              "    </tr>\n",
              "    <tr>\n",
              "      <th>424</th>\n",
              "      <td>2020-07-09</td>\n",
              "      <td>NaN</td>\n",
              "    </tr>\n",
              "    <tr>\n",
              "      <th>425</th>\n",
              "      <td>2020-07-10</td>\n",
              "      <td>NaN</td>\n",
              "    </tr>\n",
              "    <tr>\n",
              "      <th>426</th>\n",
              "      <td>2020-07-11</td>\n",
              "      <td>NaN</td>\n",
              "    </tr>\n",
              "  </tbody>\n",
              "</table>\n",
              "</div>"
            ],
            "text/plain": [
              "          Date  Weight\n",
              "377 2020-05-23  114.85\n",
              "378 2020-05-24  113.85\n",
              "379 2020-05-25  114.30\n",
              "380 2020-05-26  113.90\n",
              "381 2020-05-27  113.45\n",
              "382 2020-05-28  113.60\n",
              "383 2020-05-29  113.75\n",
              "384 2020-05-30  113.75\n",
              "385 2020-05-31  113.60\n",
              "386 2020-06-01  113.35\n",
              "387 2020-06-02  112.75\n",
              "388 2020-06-03  112.00\n",
              "389 2020-06-04  112.10\n",
              "390 2020-06-05  112.00\n",
              "391 2020-06-06  112.50\n",
              "392 2020-06-07  112.15\n",
              "393 2020-06-08  112.45\n",
              "394 2020-06-09  113.00\n",
              "395 2020-06-10  113.00\n",
              "396 2020-06-11  112.45\n",
              "397 2020-06-12     NaN\n",
              "398 2020-06-13     NaN\n",
              "399 2020-06-14     NaN\n",
              "400 2020-06-15     NaN\n",
              "401 2020-06-16     NaN\n",
              "402 2020-06-17     NaN\n",
              "403 2020-06-18     NaN\n",
              "404 2020-06-19     NaN\n",
              "405 2020-06-20     NaN\n",
              "406 2020-06-21     NaN\n",
              "407 2020-06-22     NaN\n",
              "408 2020-06-23     NaN\n",
              "409 2020-06-24     NaN\n",
              "410 2020-06-25     NaN\n",
              "411 2020-06-26     NaN\n",
              "412 2020-06-27     NaN\n",
              "413 2020-06-28     NaN\n",
              "414 2020-06-29     NaN\n",
              "415 2020-06-30     NaN\n",
              "416 2020-07-01     NaN\n",
              "417 2020-07-02     NaN\n",
              "418 2020-07-03     NaN\n",
              "419 2020-07-04     NaN\n",
              "420 2020-07-05     NaN\n",
              "421 2020-07-06     NaN\n",
              "422 2020-07-07     NaN\n",
              "423 2020-07-08     NaN\n",
              "424 2020-07-09     NaN\n",
              "425 2020-07-10     NaN\n",
              "426 2020-07-11     NaN"
            ]
          },
          "metadata": {
            "tags": []
          },
          "execution_count": 14
        }
      ]
    },
    {
      "cell_type": "code",
      "metadata": {
        "id": "i6-TYf1gijV7",
        "colab_type": "code",
        "outputId": "f6dcbb30-47ed-4cce-c674-806be102974b",
        "colab": {
          "base_uri": "https://localhost:8080/",
          "height": 197
        }
      },
      "source": [
        "clean = clean.iloc[:391,:]\n",
        "clean.tail()"
      ],
      "execution_count": 0,
      "outputs": [
        {
          "output_type": "execute_result",
          "data": {
            "text/html": [
              "<div>\n",
              "<style scoped>\n",
              "    .dataframe tbody tr th:only-of-type {\n",
              "        vertical-align: middle;\n",
              "    }\n",
              "\n",
              "    .dataframe tbody tr th {\n",
              "        vertical-align: top;\n",
              "    }\n",
              "\n",
              "    .dataframe thead th {\n",
              "        text-align: right;\n",
              "    }\n",
              "</style>\n",
              "<table border=\"1\" class=\"dataframe\">\n",
              "  <thead>\n",
              "    <tr style=\"text-align: right;\">\n",
              "      <th></th>\n",
              "      <th>Date</th>\n",
              "      <th>Weight</th>\n",
              "    </tr>\n",
              "  </thead>\n",
              "  <tbody>\n",
              "    <tr>\n",
              "      <th>386</th>\n",
              "      <td>2020-06-01</td>\n",
              "      <td>113.35</td>\n",
              "    </tr>\n",
              "    <tr>\n",
              "      <th>387</th>\n",
              "      <td>2020-06-02</td>\n",
              "      <td>112.75</td>\n",
              "    </tr>\n",
              "    <tr>\n",
              "      <th>388</th>\n",
              "      <td>2020-06-03</td>\n",
              "      <td>112.00</td>\n",
              "    </tr>\n",
              "    <tr>\n",
              "      <th>389</th>\n",
              "      <td>2020-06-04</td>\n",
              "      <td>112.10</td>\n",
              "    </tr>\n",
              "    <tr>\n",
              "      <th>390</th>\n",
              "      <td>2020-06-05</td>\n",
              "      <td>112.00</td>\n",
              "    </tr>\n",
              "  </tbody>\n",
              "</table>\n",
              "</div>"
            ],
            "text/plain": [
              "          Date  Weight\n",
              "386 2020-06-01  113.35\n",
              "387 2020-06-02  112.75\n",
              "388 2020-06-03  112.00\n",
              "389 2020-06-04  112.10\n",
              "390 2020-06-05  112.00"
            ]
          },
          "metadata": {
            "tags": []
          },
          "execution_count": 15
        }
      ]
    },
    {
      "cell_type": "markdown",
      "metadata": {
        "id": "mHDGBx9VjT3n",
        "colab_type": "text"
      },
      "source": [
        "As I don't know which interpolation method will work best, I'll try a few and plot the resutls."
      ]
    },
    {
      "cell_type": "markdown",
      "metadata": {
        "id": "wqqUmqoGkzki",
        "colab_type": "text"
      },
      "source": [
        "I'll also set the Date as the index. This allows better plotting using the Grouper method. It also allows time interpolation."
      ]
    },
    {
      "cell_type": "code",
      "metadata": {
        "id": "HcSwZHHPjQJj",
        "colab_type": "code",
        "colab": {}
      },
      "source": [
        "clean.set_index('Date',inplace=True)\n",
        "\n",
        "clean['Linear'] = clean.Weight.interpolate(method='linear',axis=0).copy()\n",
        "clean['Time'] = clean.Weight.interpolate(method='time',axis=0,).copy()\n",
        "clean['Poly-5'] = clean.Weight.interpolate(method='time',axis=0,order=5).copy()\n",
        "#There are many others to look at, but this is a start"
      ],
      "execution_count": 0,
      "outputs": []
    },
    {
      "cell_type": "code",
      "metadata": {
        "id": "_3fgx30LlqA7",
        "colab_type": "code",
        "outputId": "0ebaac94-bbdd-4db9-e596-c59e627d3d23",
        "colab": {
          "base_uri": "https://localhost:8080/",
          "height": 227
        }
      },
      "source": [
        "clean.head()"
      ],
      "execution_count": 0,
      "outputs": [
        {
          "output_type": "execute_result",
          "data": {
            "text/html": [
              "<div>\n",
              "<style scoped>\n",
              "    .dataframe tbody tr th:only-of-type {\n",
              "        vertical-align: middle;\n",
              "    }\n",
              "\n",
              "    .dataframe tbody tr th {\n",
              "        vertical-align: top;\n",
              "    }\n",
              "\n",
              "    .dataframe thead th {\n",
              "        text-align: right;\n",
              "    }\n",
              "</style>\n",
              "<table border=\"1\" class=\"dataframe\">\n",
              "  <thead>\n",
              "    <tr style=\"text-align: right;\">\n",
              "      <th></th>\n",
              "      <th>Weight</th>\n",
              "      <th>Linear</th>\n",
              "      <th>Time</th>\n",
              "      <th>Poly-5</th>\n",
              "    </tr>\n",
              "    <tr>\n",
              "      <th>Date</th>\n",
              "      <th></th>\n",
              "      <th></th>\n",
              "      <th></th>\n",
              "      <th></th>\n",
              "    </tr>\n",
              "  </thead>\n",
              "  <tbody>\n",
              "    <tr>\n",
              "      <th>2019-05-12</th>\n",
              "      <td>130.9</td>\n",
              "      <td>130.9</td>\n",
              "      <td>130.9</td>\n",
              "      <td>130.9</td>\n",
              "    </tr>\n",
              "    <tr>\n",
              "      <th>2019-05-13</th>\n",
              "      <td>127.8</td>\n",
              "      <td>127.8</td>\n",
              "      <td>127.8</td>\n",
              "      <td>127.8</td>\n",
              "    </tr>\n",
              "    <tr>\n",
              "      <th>2019-05-14</th>\n",
              "      <td>127.8</td>\n",
              "      <td>127.8</td>\n",
              "      <td>127.8</td>\n",
              "      <td>127.8</td>\n",
              "    </tr>\n",
              "    <tr>\n",
              "      <th>2019-05-15</th>\n",
              "      <td>128.7</td>\n",
              "      <td>128.7</td>\n",
              "      <td>128.7</td>\n",
              "      <td>128.7</td>\n",
              "    </tr>\n",
              "    <tr>\n",
              "      <th>2019-05-16</th>\n",
              "      <td>128.5</td>\n",
              "      <td>128.5</td>\n",
              "      <td>128.5</td>\n",
              "      <td>128.5</td>\n",
              "    </tr>\n",
              "  </tbody>\n",
              "</table>\n",
              "</div>"
            ],
            "text/plain": [
              "            Weight  Linear   Time  Poly-5\n",
              "Date                                     \n",
              "2019-05-12   130.9   130.9  130.9   130.9\n",
              "2019-05-13   127.8   127.8  127.8   127.8\n",
              "2019-05-14   127.8   127.8  127.8   127.8\n",
              "2019-05-15   128.7   128.7  128.7   128.7\n",
              "2019-05-16   128.5   128.5  128.5   128.5"
            ]
          },
          "metadata": {
            "tags": []
          },
          "execution_count": 17
        }
      ]
    },
    {
      "cell_type": "code",
      "metadata": {
        "id": "JBm94eCJlw9Q",
        "colab_type": "code",
        "outputId": "391ca474-bf2c-4853-94b8-b88017bde21a",
        "colab": {
          "base_uri": "https://localhost:8080/",
          "height": 388
        }
      },
      "source": [
        "missingno.matrix(clean,figsize=(15,5))"
      ],
      "execution_count": 0,
      "outputs": [
        {
          "output_type": "execute_result",
          "data": {
            "text/plain": [
              "<matplotlib.axes._subplots.AxesSubplot at 0x7f98bf410080>"
            ]
          },
          "metadata": {
            "tags": []
          },
          "execution_count": 18
        },
        {
          "output_type": "display_data",
          "data": {
            "image/png": "[encoded data removed]",
            "text/plain": [
              "<Figure size 1080x360 with 2 Axes>"
            ]
          },
          "metadata": {
            "tags": [],
            "needs_background": "light"
          }
        }
      ]
    },
    {
      "cell_type": "markdown",
      "metadata": {
        "id": "6F7wB6Eil6Qp",
        "colab_type": "text"
      },
      "source": [
        "## Time to plot it"
      ]
    },
    {
      "cell_type": "markdown",
      "metadata": {
        "id": "0zHFFiRZot0I",
        "colab_type": "text"
      },
      "source": [
        "I'd like to see how each interpolation compares, or if there was just too much data missing."
      ]
    },
    {
      "cell_type": "code",
      "metadata": {
        "id": "OxJRmdBil85N",
        "colab_type": "code",
        "outputId": "6e7e5dc9-7301-43b7-817b-88a2fda7e614",
        "colab": {
          "base_uri": "https://localhost:8080/",
          "height": 584
        }
      },
      "source": [
        "fig, axs = plt.subplots(nrows=2,ncols=2,figsize=(15,8),sharex=True,sharey=True,)\n",
        "\n",
        "#fig.suptitle('Comparing interpolation methods')\n",
        "\n",
        "#Plot the original weight log\n",
        "clean.plot(y='Weight',ax=axs[0,0],grid=True,label = 'Recorded Weight')\n",
        "\n",
        "#Plot the interpolated columns\n",
        "clean.plot(y='Linear',ax=axs[0,1],style = 'b',grid=True,label = 'Linear Interp')\n",
        "clean.plot(y='Time',ax=axs[1,0],style = 'g',grid=True,label = 'Time Interp')\n",
        "clean.plot(y='Poly-5',ax=axs[1,1],style = 'r',grid=True,label = 'Order-5 Poly Interp')\n",
        "fig.tight_layout()\n",
        "plt.show()\n",
        "\n"
      ],
      "execution_count": 0,
      "outputs": [
        {
          "output_type": "display_data",
          "data": {
            "image/png": "[encoded data removed]",
            "text/plain": [
              "<Figure size 1080x576 with 4 Axes>"
            ]
          },
          "metadata": {
            "tags": [],
            "needs_background": "light"
          }
        }
      ]
    },
    {
      "cell_type": "code",
      "metadata": {
        "id": "ob_nQdJ5wUDX",
        "colab_type": "code",
        "colab": {}
      },
      "source": [
        "fig.savefig('Interpolation_Methods')"
      ],
      "execution_count": 0,
      "outputs": []
    },
    {
      "cell_type": "markdown",
      "metadata": {
        "id": "2iErjRBro1tS",
        "colab_type": "text"
      },
      "source": [
        "So clearly the gap was too large, and all the interpolation methods result in a linear plot very quickly.\n",
        "\n",
        "Instead, I'll just use the linear interpolation to plot a small dotted line to show the missing data on the final plot. To do this I'll need to set Nans to all the values that we have recorded data for."
      ]
    },
    {
      "cell_type": "code",
      "metadata": {
        "id": "NtfTn341pXFh",
        "colab_type": "code",
        "colab": {}
      },
      "source": [
        "clean.drop(labels=['Time','Poly-5'],axis=1)\n",
        "clean['Missing'] = clean.Linear.copy()\n",
        "clean['Missing'][clean.Weight.notna()] = np.nan #Creates boolean mask showing Trues for the not nulls in our original data. We then set NaN's in out linear column based on those Trues."
      ],
      "execution_count": 0,
      "outputs": []
    },
    {
      "cell_type": "markdown",
      "metadata": {
        "id": "wXFqQLASqfTW",
        "colab_type": "text"
      },
      "source": [
        "Let's also make a moving average column for our trend line\n"
      ]
    },
    {
      "cell_type": "code",
      "metadata": {
        "id": "FQMOI7cMqmMp",
        "colab_type": "code",
        "colab": {}
      },
      "source": [
        "#Add 7-day moving average column to df and then add to plot\n",
        "clean['MovAvg'] = clean.Weight.rolling(min_periods=1,window=7,center=True).mean()"
      ],
      "execution_count": 0,
      "outputs": []
    },
    {
      "cell_type": "markdown",
      "metadata": {
        "id": "Ljq_b1L7qwcV",
        "colab_type": "text"
      },
      "source": [
        "We can now plot a new graph"
      ]
    },
    {
      "cell_type": "code",
      "metadata": {
        "id": "5feVbePvq0G5",
        "colab_type": "code",
        "outputId": "5e6112e5-a7eb-4fab-e368-76c8e4d1d511",
        "colab": {
          "base_uri": "https://localhost:8080/",
          "height": 474
        }
      },
      "source": [
        "fig, ax = plt.subplots(figsize=(20,8))\n",
        "ax.set_title('Weight Loss Over Time',fontsize=16)\n",
        "ax.set_ylabel('Weight (KG)',fontsize=14)\n",
        "ax.set_xlabel('Time',fontsize=14)\n",
        "\n",
        "\n",
        "clean.plot(y='Weight',ax=ax, style='b:',label='Recorded Weights') # Original Log\n",
        "clean.plot(y='Missing',ax=ax,style='r:',label='Missing Data') # Interpolated missing data using linear\n",
        "clean.plot(y='MovAvg',ax=ax,label='7-Day Moving Average') # 7-Day moving average\n",
        "\n",
        "#Extend axes to show perspective\n",
        "ax.set_xlim(pd.Timestamp('2019-05-01'),pd.Timestamp('2020-07-01'))\n",
        "ax.set_ylim(bottom=110)\n",
        "\n",
        "#Annotate Graph\n",
        "ax.annotate('Settling in London',('2019-10-20',128))\n",
        "ax.annotate('Busy work Christmas',('2019-11-10',121))\n",
        "ax.annotate('Florida Wedding',('2020-02-10',120))\n",
        "\n",
        "#Add second vertical axis to show lbs\n",
        "def KGtoLBS(x):\n",
        "  return 2.2*x\n",
        "\n",
        "def LBStoKG(x):\n",
        "  return x/2.2\n",
        "\n",
        "secaxy = ax.secondary_yaxis('right', functions=(KGtoLBS, LBStoKG))\n",
        "secaxy.set_ylabel('Weight (lbs)',fontsize=14)\n",
        "\n",
        "#Add grid and ticks\n",
        "ax.grid(b=True,which='both')\n",
        "\n",
        "plt.show()\n"
      ],
      "execution_count": 0,
      "outputs": [
        {
          "output_type": "display_data",
          "data": {
            "image/png": "[encoded data removed]",
            "text/plain": [
              "<Figure size 1440x576 with 1 Axes>"
            ]
          },
          "metadata": {
            "tags": [],
            "needs_background": "light"
          }
        }
      ]
    },
    {
      "cell_type": "code",
      "metadata": {
        "id": "nNpMuS3GViNA",
        "colab_type": "code",
        "colab": {}
      },
      "source": [
        "fig.savefig('Weight_loss_annotated')"
      ],
      "execution_count": 0,
      "outputs": []
    },
    {
      "cell_type": "code",
      "metadata": {
        "id": "2O3DZrTKx-wC",
        "colab_type": "code",
        "colab": {}
      },
      "source": [
        ""
      ],
      "execution_count": 0,
      "outputs": []
    }
  ]
}